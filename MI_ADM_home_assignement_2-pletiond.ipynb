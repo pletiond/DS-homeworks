{
  "nbformat": 4,
  "nbformat_minor": 0,
  "metadata": {
    "colab": {
      "name": "MI-ADM_home_assignement_2.ipynb",
      "version": "0.3.2",
      "provenance": [],
      "collapsed_sections": [],
      "toc_visible": true
    },
    "language_info": {
      "codemirror_mode": {
        "name": "ipython",
        "version": 3
      },
      "file_extension": ".py",
      "mimetype": "text/x-python",
      "name": "python",
      "nbconvert_exporter": "python",
      "pygments_lexer": "ipython3",
      "version": "3.7.3"
    },
    "kernelspec": {
      "display_name": "Python 3",
      "language": "python",
      "name": "python3"
    }
  },
  "cells": [
    {
      "cell_type": "markdown",
      "metadata": {
        "id": "zIs8btXagaGm",
        "colab_type": "text"
      },
      "source": [
        "# MI-ADM: home assignment 2\n",
        "\n",
        "  * **Deadline**: 15.05.2019 -2 points for late submission, the hard deadline is the first day of the exam period.\n",
        "  * **What to submit**: Just this notebook with your code and texts, not the dataset!\n",
        "  * **How to submit**: See the instructions at https://courses.fit.cvut.cz/MI-ADM/tutorials/index.html.\n",
        "  \n",
        "Generally speaking, the goal of this assignment is to apply **support vector machines on a classification problem**.\n",
        "\n",
        "What to do:\n",
        "  * Use the data from Spambase dataset http://archive.ics.uci.edu/ml/datasets/spambase.\n",
        "  * Train Support Vector Machine classification model directly (without any kernel approach) and evaluate its accuracy.\n",
        "  * Train Support Vector Machine classification model based on a kernel function (RBF, polynomial, etc.) of your choice and evaluate its accuracy.\n",
        "  * Compare the results with a random forest model."
      ]
    },
    {
      "cell_type": "code",
      "metadata": {
        "id": "8quYNOW5gaGo",
        "colab_type": "code",
        "colab": {}
      },
      "source": [
        "# here you go:\n",
        "import pandas as pd\n",
        "import numpy as np\n",
        "from sklearn.model_selection import train_test_split\n",
        "from sklearn.svm import SVC\n",
        "from sklearn.ensemble import RandomForestClassifier\n",
        "from sklearn.preprocessing import StandardScaler\n",
        "from mlxtend.plotting import plot_decision_regions"
      ],
      "execution_count": 0,
      "outputs": []
    },
    {
      "cell_type": "code",
      "metadata": {
        "id": "tn0hed8ZgaGs",
        "colab_type": "code",
        "colab": {}
      },
      "source": [
        "columns = ['word_freq_make',\n",
        " 'word_freq_address',\n",
        " 'word_freq_all',\n",
        " 'word_freq_3d',\n",
        " 'word_freq_our',\n",
        " 'word_freq_over',\n",
        " 'word_freq_remove',\n",
        " 'word_freq_internet',\n",
        " 'word_freq_order',\n",
        " 'word_freq_mail',\n",
        " 'word_freq_receive',\n",
        " 'word_freq_will',\n",
        " 'word_freq_people',\n",
        " 'word_freq_report',\n",
        " 'word_freq_addresses',\n",
        " 'word_freq_free',\n",
        " 'word_freq_business',\n",
        " 'word_freq_email',\n",
        " 'word_freq_you',\n",
        " 'word_freq_credit',\n",
        " 'word_freq_your',\n",
        " 'word_freq_font',\n",
        " 'word_freq_000',\n",
        " 'word_freq_money',\n",
        " 'word_freq_hp',\n",
        " 'word_freq_hpl',\n",
        " 'word_freq_george',\n",
        " 'word_freq_650',\n",
        " 'word_freq_lab',\n",
        " 'word_freq_labs',\n",
        " 'word_freq_telnet',\n",
        " 'word_freq_857',\n",
        " 'word_freq_data',\n",
        " 'word_freq_415',\n",
        " 'word_freq_85',\n",
        " 'word_freq_technology',\n",
        " 'word_freq_1999',\n",
        " 'word_freq_parts',\n",
        " 'word_freq_pm',\n",
        " 'word_freq_direct',\n",
        " 'word_freq_cs',\n",
        " 'word_freq_meeting',\n",
        " 'word_freq_original',\n",
        " 'word_freq_project',\n",
        " 'word_freq_re',\n",
        " 'word_freq_edu',\n",
        " 'word_freq_table',\n",
        " 'word_freq_conference',\n",
        " 'char_freq_;',\n",
        " 'char_freq_(',\n",
        " 'char_freq_[',\n",
        " 'char_freq_!',\n",
        " 'char_freq_$',\n",
        " 'char_freq_#',\n",
        " 'capital_run_length_average',\n",
        " 'capital_run_length_longest',\n",
        " 'capital_run_length_total',\n",
        " 'class']\n",
        "df = pd.read_csv('spambase.data', header=None, names = columns) \n",
        "#df.describe()"
      ],
      "execution_count": 0,
      "outputs": []
    },
    {
      "cell_type": "code",
      "metadata": {
        "id": "803Dlpt4gaG3",
        "colab_type": "code",
        "outputId": "ce77dab1-d536-4977-b98c-e88f4138609f",
        "colab": {
          "base_uri": "https://localhost:8080/",
          "height": 107
        }
      },
      "source": [
        "X = df.drop('class', axis = 1)\n",
        "Y = df['class']\n",
        "\n",
        "scaler = StandardScaler()\n",
        "X = pd.DataFrame(scaler.fit_transform(X))"
      ],
      "execution_count": 3,
      "outputs": [
        {
          "output_type": "stream",
          "text": [
            "/usr/local/lib/python3.6/dist-packages/sklearn/preprocessing/data.py:645: DataConversionWarning: Data with input dtype int64, float64 were all converted to float64 by StandardScaler.\n",
            "  return self.partial_fit(X, y)\n",
            "/usr/local/lib/python3.6/dist-packages/sklearn/base.py:464: DataConversionWarning: Data with input dtype int64, float64 were all converted to float64 by StandardScaler.\n",
            "  return self.fit(X, **fit_params).transform(X)\n"
          ],
          "name": "stderr"
        }
      ]
    },
    {
      "cell_type": "code",
      "metadata": {
        "id": "JiD9Xh-fgaGy",
        "colab_type": "code",
        "colab": {}
      },
      "source": [
        "X_train, X_test, Y_train, Y_test = train_test_split(X, Y, test_size=0.25, random_state=42)\n",
        "results = {}"
      ],
      "execution_count": 0,
      "outputs": []
    },
    {
      "cell_type": "markdown",
      "metadata": {
        "id": "K15v0YEEgaG7",
        "colab_type": "text"
      },
      "source": [
        "# SVM without kernel"
      ]
    },
    {
      "cell_type": "code",
      "metadata": {
        "id": "Q7evtIjJgaG8",
        "colab_type": "code",
        "colab": {}
      },
      "source": [
        "clf_linear = SVC(kernel ='linear')\n",
        "_ = clf_linear.fit(X_train, Y_train) "
      ],
      "execution_count": 0,
      "outputs": []
    },
    {
      "cell_type": "code",
      "metadata": {
        "id": "T7sMfCu_gaHA",
        "colab_type": "code",
        "outputId": "00fe7e83-8448-4a4b-8700-891dbc5319f3",
        "colab": {
          "base_uri": "https://localhost:8080/",
          "height": 35
        }
      },
      "source": [
        "print(f'Score: {clf_linear.score(X_test, Y_test)}')\n",
        "results['Linear'] = [clf_linear.score(X_test, Y_test)]"
      ],
      "execution_count": 6,
      "outputs": [
        {
          "output_type": "stream",
          "text": [
            "Score: 0.9287576020851434\n"
          ],
          "name": "stdout"
        }
      ]
    },
    {
      "cell_type": "markdown",
      "metadata": {
        "id": "o2MzpVDglhgd",
        "colab_type": "text"
      },
      "source": [
        "# SVM - Radial basis function"
      ]
    },
    {
      "cell_type": "code",
      "metadata": {
        "id": "jKxtfUsKlnBy",
        "colab_type": "code",
        "colab": {}
      },
      "source": [
        "clf_rbf = SVC(kernel ='rbf', gamma='scale')\n",
        "_ = clf_rbf.fit(X_train, Y_train) "
      ],
      "execution_count": 0,
      "outputs": []
    },
    {
      "cell_type": "code",
      "metadata": {
        "id": "FmlEL-cul51c",
        "colab_type": "code",
        "outputId": "9ab5d410-a96d-4e00-e214-0bbe3f22b156",
        "colab": {
          "base_uri": "https://localhost:8080/",
          "height": 35
        }
      },
      "source": [
        "print(f'Score: {clf_rbf.score(X_test, Y_test)}')\n",
        "results['RBF'] = [clf_rbf.score(X_test, Y_test)]"
      ],
      "execution_count": 8,
      "outputs": [
        {
          "output_type": "stream",
          "text": [
            "Score: 0.9365768896611643\n"
          ],
          "name": "stdout"
        }
      ]
    },
    {
      "cell_type": "markdown",
      "metadata": {
        "id": "bzo8BAqwmiYd",
        "colab_type": "text"
      },
      "source": [
        "# SVM - polynomial"
      ]
    },
    {
      "cell_type": "code",
      "metadata": {
        "id": "qsXGq1c6muRI",
        "colab_type": "code",
        "colab": {}
      },
      "source": [
        "clf_poly = SVC(kernel ='poly', gamma = 'scale', degree = 1)\n",
        "_ = clf_poly.fit(X_train, Y_train) "
      ],
      "execution_count": 0,
      "outputs": []
    },
    {
      "cell_type": "code",
      "metadata": {
        "id": "HdowW5dlmueJ",
        "colab_type": "code",
        "outputId": "20295559-dea6-49a2-dfec-500bb73e671b",
        "colab": {
          "base_uri": "https://localhost:8080/",
          "height": 35
        }
      },
      "source": [
        "print(f'Score: {clf_poly.score(X_test, Y_test)}')\n",
        "results['Polynomial'] = [clf_poly.score(X_test, Y_test)]"
      ],
      "execution_count": 10,
      "outputs": [
        {
          "output_type": "stream",
          "text": [
            "Score: 0.9174630755864466\n"
          ],
          "name": "stdout"
        }
      ]
    },
    {
      "cell_type": "markdown",
      "metadata": {
        "id": "FHGbqp2rs6D4",
        "colab_type": "text"
      },
      "source": [
        "# Random forest"
      ]
    },
    {
      "cell_type": "code",
      "metadata": {
        "id": "rwT8sJN6s9q0",
        "colab_type": "code",
        "outputId": "93fe257e-4328-4da0-d010-9e7a2665aaf3",
        "colab": {
          "base_uri": "https://localhost:8080/",
          "height": 35
        }
      },
      "source": [
        "clf_rf = RandomForestClassifier(n_estimators=100)\n",
        "_ = clf_rf.fit(X_train, Y_train)\n",
        "print(f'Score: {clf_rf.score(X_test, Y_test)}')\n",
        "results['Random forest'] = [clf_rf.score(X_test, Y_test)]"
      ],
      "execution_count": 11,
      "outputs": [
        {
          "output_type": "stream",
          "text": [
            "Score: 0.9600347523892268\n"
          ],
          "name": "stdout"
        }
      ]
    },
    {
      "cell_type": "markdown",
      "metadata": {
        "id": "3zQ_t1d0s_Yp",
        "colab_type": "text"
      },
      "source": [
        "# Results"
      ]
    },
    {
      "cell_type": "code",
      "metadata": {
        "id": "72B8O346tAfu",
        "colab_type": "code",
        "outputId": "d410bd34-ece2-4d72-b51e-228fd5d420fd",
        "colab": {
          "base_uri": "https://localhost:8080/",
          "height": 79
        }
      },
      "source": [
        "res= pd.DataFrame.from_dict(results)\n",
        "res.index = ['Mean accuracy']\n",
        "res"
      ],
      "execution_count": 12,
      "outputs": [
        {
          "output_type": "execute_result",
          "data": {
            "text/html": [
              "<div>\n",
              "<style scoped>\n",
              "    .dataframe tbody tr th:only-of-type {\n",
              "        vertical-align: middle;\n",
              "    }\n",
              "\n",
              "    .dataframe tbody tr th {\n",
              "        vertical-align: top;\n",
              "    }\n",
              "\n",
              "    .dataframe thead th {\n",
              "        text-align: right;\n",
              "    }\n",
              "</style>\n",
              "<table border=\"1\" class=\"dataframe\">\n",
              "  <thead>\n",
              "    <tr style=\"text-align: right;\">\n",
              "      <th></th>\n",
              "      <th>Linear</th>\n",
              "      <th>RBF</th>\n",
              "      <th>Polynomial</th>\n",
              "      <th>Random forest</th>\n",
              "    </tr>\n",
              "  </thead>\n",
              "  <tbody>\n",
              "    <tr>\n",
              "      <th>Mean accuracy</th>\n",
              "      <td>0.928758</td>\n",
              "      <td>0.936577</td>\n",
              "      <td>0.917463</td>\n",
              "      <td>0.960035</td>\n",
              "    </tr>\n",
              "  </tbody>\n",
              "</table>\n",
              "</div>"
            ],
            "text/plain": [
              "                 Linear       RBF  Polynomial  Random forest\n",
              "Mean accuracy  0.928758  0.936577    0.917463       0.960035"
            ]
          },
          "metadata": {
            "tags": []
          },
          "execution_count": 12
        }
      ]
    },
    {
      "cell_type": "markdown",
      "metadata": {
        "id": "2ibWa-Mq-j0B",
        "colab_type": "text"
      },
      "source": [
        "I trained SVM classification model with linear, rbf and polynomial kernel parameter. The best result had radial basis function, but compared to a random forest it is still worse."
      ]
    }
  ]
}