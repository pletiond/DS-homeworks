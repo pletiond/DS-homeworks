{
 "cells": [
  {
   "cell_type": "markdown",
   "metadata": {
    "colab_type": "text",
    "id": "njDxzq53RlMW"
   },
   "source": [
    "# MI-ADM: home assignment 1\n",
    "\n",
    "  * **Deadline**: 28/04/2019, -2 points for a late submission, the hard deadline is the first day of the exam period.\n",
    "  * **What to submit**: Just this notebook with you code and texts, not the dataset!\n",
    "  * **How to submit**: See the instructions at https://courses.fit.cvut.cz/MI-ADM/tutorials/index.html.\n",
    "  \n",
    "Generally speaking, the goal of this assignment is to use **decision trees and related methods (boosted trees, random forests) for the regression problem**.\n",
    "\n",
    "What to do:\n",
    "  * Study the data from `house-prices.csv` (see also `house-prices_description.txt`) and prepare them for application of the algorithms (decision tree, random forest, XGBoost).\n",
    "  * Treat the missing values and nominal/ordinal variables reasonably; experiment with various approaches.\n",
    "  * Try to replace the continuous features with some discrete ones (indicator variables, dummy variables, binning, ...). \n",
    "  * Tune some reasonably selected hyperparameters (using cross-validation or just a validation set) and measure the results using *Root mean squared logarithmic error (RMSLE)*."
   ]
  },
  {
   "cell_type": "markdown",
   "metadata": {
    "colab_type": "text",
    "id": "tlyT0QfGRlMa"
   },
   "source": [
    "# Preprocessing"
   ]
  },
  {
   "cell_type": "code",
   "execution_count": 21,
   "metadata": {
    "colab": {
     "base_uri": "https://localhost:8080/",
     "height": 52
    },
    "colab_type": "code",
    "id": "6-2qavB1RlMc",
    "outputId": "8865d326-0ab7-4418-d4b9-305097da88a5"
   },
   "outputs": [
    {
     "name": "stdout",
     "output_type": "stream",
     "text": [
      "Features cnt: 81\n",
      "Rows cnt: 1460\n"
     ]
    }
   ],
   "source": [
    "import pandas as pd\n",
    "import math\n",
    "import numpy as np\n",
    "from sklearn import  preprocessing, model_selection, metrics, tree, feature_selection\n",
    "from sklearn.ensemble import RandomForestRegressor\n",
    "from scipy import stats\n",
    "import matplotlib\n",
    "import matplotlib.pyplot as plt\n",
    "import warnings\n",
    "warnings.filterwarnings('ignore')\n",
    "\n",
    "df = pd.read_csv('house-prices.csv')\n",
    "# the logarithm of SalesPrice must be used to evaluate RMSLE properly\n",
    "# you can comment out the following line and apply the log just before evaluating RMSLE\n",
    "df.SalePrice = df.SalePrice.apply(math.log) \n",
    "print(f'Features cnt: {df.shape[1]}')\n",
    "print(f'Rows cnt: {df.shape[0]}')"
   ]
  },
  {
   "cell_type": "code",
   "execution_count": 22,
   "metadata": {
    "colab": {
     "base_uri": "https://localhost:8080/",
     "height": 35
    },
    "colab_type": "code",
    "id": "chNvn-EwRlMp",
    "outputId": "19f95853-ce1b-4a36-9337-d08a77cdd0fd"
   },
   "outputs": [
    {
     "name": "stdout",
     "output_type": "stream",
     "text": [
      "Features cnt: 112\n"
     ]
    }
   ],
   "source": [
    "#New features\n",
    "df['TotalArea'] = df['TotalBsmtSF'] + df['1stFlrSF'] + df['2ndFlrSF']\n",
    "\n",
    "for column in df.filter(regex='Area|SF', axis=1).columns: \n",
    "    df['Has' + column] = (df[column] > 0).replace({True: 1, False: 0}).astype('uint8')\n",
    "    df['Sqrt' + column] = np.sqrt(df[column])\n",
    "\n",
    "print(f'Features cnt: {df.shape[1]}')"
   ]
  },
  {
   "cell_type": "code",
   "execution_count": 23,
   "metadata": {
    "colab": {
     "base_uri": "https://localhost:8080/",
     "height": 35
    },
    "colab_type": "code",
    "id": "6cbu-JnGRlMx",
    "outputId": "22144ca3-f3ee-4620-fcee-457ae7577f36"
   },
   "outputs": [
    {
     "name": "stdout",
     "output_type": "stream",
     "text": [
      "Features cnt: 321\n"
     ]
    }
   ],
   "source": [
    "# CLEANING\n",
    "# Convert all object values to categorial format\n",
    "df[df.select_dtypes(include=['object']).columns] = df.select_dtypes(include=['object']).apply(pd.Series.astype, dtype='category')\n",
    "# Fill all NaN with 0\n",
    "df.loc[:,df.select_dtypes(include=['float64']).columns] = df.loc[:,df.select_dtypes(include=['float64']).columns].fillna(0)\n",
    "\n",
    "df = pd.get_dummies(df)\n",
    "\n",
    "df[df.select_dtypes(['float16', 'float64', 'int64']).columns] = df[df.select_dtypes(['float16', 'float64', 'int64']).columns].astype('float64')\n",
    "\n",
    "print(f'Features cnt: {df.shape[1]}')"
   ]
  },
  {
   "cell_type": "code",
   "execution_count": 24,
   "metadata": {
    "colab": {
     "base_uri": "https://localhost:8080/",
     "height": 35
    },
    "colab_type": "code",
    "id": "Tx1HvWsARlM5",
    "outputId": "b7ad8876-52d0-49cc-d84d-ac1eac538fdb"
   },
   "outputs": [
    {
     "name": "stdout",
     "output_type": "stream",
     "text": [
      "Features cnt: 301\n"
     ]
    }
   ],
   "source": [
    "#Removing features\n",
    "df = df[df.columns[df.min() != df.max()]]\n",
    "\n",
    "columns_to_remove = ['Id']\n",
    "ttest_pvals = df\\\n",
    "    .drop(columns_to_remove, axis = 1, errors = 'ignore')\\\n",
    "    .select_dtypes(include = ['uint8']).columns\\\n",
    "    .to_series()\\\n",
    "    .apply(lambda x: stats.ttest_ind(df.SalePrice[df[x] == 0], df.SalePrice[df[x] == 1], equal_var = False).pvalue)\n",
    "\n",
    "columns_to_remove = list(set(columns_to_remove + list(ttest_pvals[ttest_pvals > 0.6].index)))\n",
    "df.drop(columns_to_remove, axis = 1, errors = 'ignore', inplace=True)\n",
    "\n",
    "print(f'Features cnt: {df.shape[1]}')"
   ]
  },
  {
   "cell_type": "code",
   "execution_count": 25,
   "metadata": {
    "colab": {
     "base_uri": "https://localhost:8080/",
     "height": 35
    },
    "colab_type": "code",
    "id": "5hUiMssmRlNC",
    "outputId": "5efa1b14-3353-4da7-9c24-4f2eea5cda78"
   },
   "outputs": [
    {
     "name": "stdout",
     "output_type": "stream",
     "text": [
      "Features cnt: 301\n"
     ]
    }
   ],
   "source": [
    "#Standardize \n",
    "columns = df.select_dtypes(include=['float64']).columns \n",
    "columns = columns.drop('SalePrice')\n",
    "scaler = preprocessing.StandardScaler()\n",
    "scaler.fit(df[columns])\n",
    "df[columns] = scaler.transform(df[columns])\n",
    "\n",
    "print(f'Features cnt: {df.shape[1]}')"
   ]
  },
  {
   "cell_type": "code",
   "execution_count": 0,
   "metadata": {
    "colab": {},
    "colab_type": "code",
    "id": "QZ3c3coORlNL"
   },
   "outputs": [],
   "source": [
    "def get_rmsle(train_X, train_Y, val_test_X, val_test_Y, selected_model, select_features = True):\n",
    "    \n",
    "    if select_features:\n",
    "        sfm = feature_selection.SelectFromModel(selected_model)\n",
    "        sfm.fit(train_X, train_Y)\n",
    "\n",
    "        train_X = sfm.transform(train_X)\n",
    "        val_test_X = sfm.transform(val_test_X)\n",
    "    \n",
    "    model = selected_model.fit(train_X, train_Y)\n",
    "\n",
    "    return np.sqrt(metrics.mean_squared_error(val_test_Y, model.predict(val_test_X)))"
   ]
  },
  {
   "cell_type": "code",
   "execution_count": 27,
   "metadata": {
    "colab": {
     "base_uri": "https://localhost:8080/",
     "height": 69
    },
    "colab_type": "code",
    "id": "3SIlPAwCRlNV",
    "outputId": "e150ed9b-a830-435e-d0ef-49bb3a195fb8"
   },
   "outputs": [
    {
     "name": "stdout",
     "output_type": "stream",
     "text": [
      "Train rows: 934\n",
      "Val rows: 234\n",
      "Test rows: 292\n"
     ]
    }
   ],
   "source": [
    "X_train, X_test, y_train, y_test = model_selection.train_test_split(df.drop('SalePrice', axis=1), df.SalePrice, test_size=0.2, random_state=1)\n",
    "X_train, X_val, y_train, y_val = model_selection.train_test_split(X_train, y_train, test_size=0.2, random_state=1)\n",
    "\n",
    "print(f'Train rows: {X_train.shape[0]}')\n",
    "print(f'Val rows: {X_val.shape[0]}')\n",
    "print(f'Test rows: {X_test.shape[0]}')"
   ]
  },
  {
   "cell_type": "markdown",
   "metadata": {
    "colab_type": "text",
    "id": "snkgsnecbrDd"
   },
   "source": [
    "I will train all three models on test dataset. I will tune the hyperparameters on the validation dataset and measure the resulting RMSLE on the test dataset."
   ]
  },
  {
   "cell_type": "markdown",
   "metadata": {
    "colab_type": "text",
    "id": "yhtgFk-ZRlNf"
   },
   "source": [
    "# Decision tree"
   ]
  },
  {
   "cell_type": "code",
   "execution_count": 0,
   "metadata": {
    "colab": {},
    "colab_type": "code",
    "id": "hjcpP1S-RlNh"
   },
   "outputs": [],
   "source": [
    "res_mse = []\n",
    "res_friedman = []\n",
    "res_mae = []\n",
    "max_depth =  50\n",
    "for i in range(1,  max_depth):\n",
    "    regr = tree.DecisionTreeRegressor(criterion='mse',splitter ='best', max_depth=i)\n",
    "    rmsle_mse  = get_rmsle(X_train, y_train, X_val, y_val, regr)\n",
    "    res_mse.append(rmsle_mse)\n",
    "    \n",
    "    regr = tree.DecisionTreeRegressor(criterion='friedman_mse',splitter ='best', max_depth=i)\n",
    "    rmsle_friedman = get_rmsle(X_train, y_train, X_val, y_val, regr)\n",
    "    res_friedman.append(rmsle_friedman)\n",
    "    \n",
    "    regr = tree.DecisionTreeRegressor(criterion='mae',splitter ='best', max_depth=i)\n",
    "    rmsle_mae = get_rmsle(X_train, y_train, X_val, y_val, regr)\n",
    "    res_mae.append(rmsle_mae)"
   ]
  },
  {
   "cell_type": "code",
   "execution_count": 31,
   "metadata": {
    "colab": {
     "base_uri": "https://localhost:8080/",
     "height": 347
    },
    "colab_type": "code",
    "id": "yBy81C-0RlNz",
    "outputId": "5be9386f-03e2-445f-c027-9e6c4d92f09f"
   },
   "outputs": [
    {
     "name": "stdout",
     "output_type": "stream",
     "text": [
      "Min MSE = 0.17306153810948435 Ideal depth = 6\n",
      "Min Friedman = 0.17944970202920948 Ideal depth = 6\n",
      "Min Mae = 0.17287249606858898 Ideal depth = 3\n"
     ]
    },
    {
     "data": {
      "image/png": "[encoded data removed]",
      "text/plain": [
       "<Figure size 432x288 with 1 Axes>"
      ]
     },
     "metadata": {
      "tags": []
     },
     "output_type": "display_data"
    }
   ],
   "source": [
    "plt.plot([i for i in range(1, max_depth)], res_mse)\n",
    "plt.plot([i for i in range(1, max_depth)], res_friedman)\n",
    "plt.plot([i for i in range(1, max_depth)], res_mae)\n",
    "\n",
    "plt.title('Decision tree\\'s RMSLE - validation set')\n",
    "plt.xlabel('Max depth')\n",
    "plt.ylabel('RMSLE')\n",
    "plt.legend(['MSE', 'Friedman MSE', 'MAE'])\n",
    "\n",
    "print(f'Min MSE = {min(res_mse)} Ideal depth = {res_mse.index(min(res_mse))}')\n",
    "print(f'Min Friedman = {min(res_friedman)} Ideal depth = {res_friedman.index(min(res_friedman))}')\n",
    "print(f'Min Mae = {min(res_mae)} Ideal depth = {res_mae.index(min(res_mae))}')"
   ]
  },
  {
   "cell_type": "markdown",
   "metadata": {
    "colab_type": "text",
    "id": "irGAB9XkRlN-"
   },
   "source": [
    "## Decision tree results"
   ]
  },
  {
   "cell_type": "code",
   "execution_count": 32,
   "metadata": {
    "colab": {
     "base_uri": "https://localhost:8080/",
     "height": 69
    },
    "colab_type": "code",
    "id": "imUbQtS-RlOA",
    "outputId": "c4a3c9e4-7217-4ca1-f255-76773fa75219"
   },
   "outputs": [
    {
     "name": "stdout",
     "output_type": "stream",
     "text": [
      "RMSLE with MSE criterion: 0.18380026303781363\n",
      "RMSLE with MSE criterion: 0.18306419574126778\n",
      "RMSLE with MSE criterion: 0.21833650273534985\n"
     ]
    }
   ],
   "source": [
    "regr = tree.DecisionTreeRegressor(criterion='mse',splitter ='best', max_depth=res_mse.index(min(res_mse)))\n",
    "rmsle_mse  = get_rmsle(X_train, y_train, X_test, y_test, regr)\n",
    "print(f'RMSLE with MSE criterion: {rmsle_mse}')\n",
    "\n",
    "regr = tree.DecisionTreeRegressor(criterion='friedman_mse',splitter ='best', max_depth=res_friedman.index(min(res_friedman)))\n",
    "rmsle_friedman = get_rmsle(X_train, y_train, X_test, y_test, regr)\n",
    "print(f'RMSLE with MSE criterion: {rmsle_friedman}')\n",
    "\n",
    "regr = tree.DecisionTreeRegressor(criterion='mae',splitter ='best', max_depth=res_mae.index(min(res_mae)))\n",
    "rmsle_mae = get_rmsle(X_train, y_train, X_test, y_test, regr)\n",
    "print(f'RMSLE with MSE criterion: {rmsle_mae}')"
   ]
  },
  {
   "cell_type": "markdown",
   "metadata": {
    "colab_type": "text",
    "id": "3k1GxzurRlOL"
   },
   "source": [
    "I tried to tune these hyperparameters:\n",
    " - criterion\n",
    " - splitter\n",
    " - max_depth\n",
    " \n",
    " \n",
    "For validation, the best RMSLE had configuration:\n",
    " - criterion = MAE\n",
    " - splitter = BEST\n",
    " - max_depth = 3\n",
    " - RMSLE = 0.1728\n",
    " \n",
    " \n",
    "But after testing on test dataset, the best result had configuration:\n",
    " - criterion = MSE\n",
    " - splitter = BEST\n",
    " - max_depth = 6\n",
    " - ** RMSLE = 0.1872**"
   ]
  },
  {
   "cell_type": "markdown",
   "metadata": {
    "colab_type": "text",
    "id": "XZForeZdRlON"
   },
   "source": [
    "# Random forest "
   ]
  },
  {
   "cell_type": "code",
   "execution_count": 11,
   "metadata": {
    "colab": {
     "base_uri": "https://localhost:8080/",
     "height": 287
    },
    "colab_type": "code",
    "id": "uT1-5pFTRlOO",
    "outputId": "f5979d24-3c9f-40c0-8e3f-377e5ff0e4b3",
    "scrolled": true
   },
   "outputs": [
    {
     "name": "stdout",
     "output_type": "stream",
     "text": [
      "Min RMSLE: 0.12382482685048675 - 120\n"
     ]
    },
    {
     "data": {
      "image/png": "[encoded data removed]",
      "text/plain": [
       "<Figure size 432x288 with 1 Axes>"
      ]
     },
     "metadata": {
      "tags": []
     },
     "output_type": "display_data"
    }
   ],
   "source": [
    "trees_res = []\n",
    "\n",
    "for i in range(1, 201,20):\n",
    "    regr = RandomForestRegressor(n_estimators = i)\n",
    "    rmsle = get_rmsle(X_train, y_train, X_val, y_val, regr, True)\n",
    "    trees_res.append(rmsle)\n",
    "    \n",
    "plt.plot([i for i in range(1, 201,20)], trees_res)\n",
    "print(f'Min RMSLE: {min(trees_res)} - {trees_res.index(min(trees_res))*20}')"
   ]
  },
  {
   "cell_type": "code",
   "execution_count": 12,
   "metadata": {
    "colab": {
     "base_uri": "https://localhost:8080/",
     "height": 208
    },
    "colab_type": "code",
    "id": "MzBVlXl_RlOY",
    "outputId": "6505c3c4-b339-4ad5-ea2e-e6e5362f989f"
   },
   "outputs": [
    {
     "name": "stdout",
     "output_type": "stream",
     "text": [
      "20\n",
      "40\n",
      "60\n",
      "80\n",
      "100\n",
      "120\n",
      "140\n",
      "160\n",
      "180\n",
      "200\n",
      "[60, 'mse', 30]\n"
     ]
    }
   ],
   "source": [
    "rf_params ={'n_estimators':[i for i in range(20, 220, 20)], 'criterion':['mse', 'mae'], 'max_depth': [None, 1, 5, 10, 20, 30]}\n",
    "n_estimators_res = { 20:[], 40:[], 60:[], 80:[], 100:[], 120:[], 140:[], 160:[], 180:[], 200:[]}\n",
    "criterion_res ={'mse':[], 'mae':[]}\n",
    "max_depth_res = {None: [], 1:[], 5:[], 10:[], 20:[], 30:[]}\n",
    "best_rmsle = 1\n",
    "best_params = []\n",
    "for n_estimators in rf_params['n_estimators']:\n",
    "    print(n_estimators)\n",
    "    for criterion in rf_params['criterion']:\n",
    "        for max_depth in rf_params['max_depth']:\n",
    "            regr = RandomForestRegressor(max_depth=max_depth,criterion= criterion, n_estimators=n_estimators)\n",
    "            rmsle = get_rmsle(X_train, y_train, X_val, y_val, regr)\n",
    "            \n",
    "            if rmsle < best_rmsle:\n",
    "                best_rmsle = rmsle\n",
    "                best_params =[n_estimators, criterion, max_depth]\n",
    "                \n",
    "            n_estimators_res[n_estimators].append(rmsle)\n",
    "            criterion_res[criterion].append(rmsle)\n",
    "            max_depth_res[max_depth].append(rmsle)\n",
    "                  \n",
    "print(best_params)"
   ]
  },
  {
   "cell_type": "markdown",
   "metadata": {
    "colab_type": "text",
    "id": "DCPzTYloRlOh"
   },
   "source": [
    "## Random forest result"
   ]
  },
  {
   "cell_type": "code",
   "execution_count": 13,
   "metadata": {
    "colab": {
     "base_uri": "https://localhost:8080/",
     "height": 35
    },
    "colab_type": "code",
    "id": "GM4UUrJoRlOk",
    "outputId": "aa09cac8-81d8-4e63-bf94-e29e58880558"
   },
   "outputs": [
    {
     "name": "stdout",
     "output_type": "stream",
     "text": [
      "RMSLE: 0.14443537282833777\n"
     ]
    }
   ],
   "source": [
    "regr = RandomForestRegressor(max_depth=30,criterion= 'mse', n_estimators=60)\n",
    "rmsle_rf  = get_rmsle(X_train, y_train, X_test, y_test, regr)\n",
    "print(f'RMSLE: {rmsle_rf}')"
   ]
  },
  {
   "cell_type": "markdown",
   "metadata": {
    "colab_type": "text",
    "id": "zY6zsG82bk0P"
   },
   "source": [
    "I tried to tune these hyperparameters:\n",
    " - criterion\n",
    " - n_estimators\n",
    " - max_depth\n",
    " \n",
    " \n",
    "For validation, the best RMSLE had configuration:\n",
    " - criterion = MSE\n",
    " - n_estimators = 60\n",
    " - max_depth = 30\n",
    " - RMSLE = 0.1222\n",
    " \n",
    " \n",
    "**RMSLE on testing  dataset is 0.1444**\n"
   ]
  },
  {
   "cell_type": "markdown",
   "metadata": {
    "colab_type": "text",
    "id": "JdbNOosVRlOv"
   },
   "source": [
    "# XGBoost"
   ]
  },
  {
   "cell_type": "code",
   "execution_count": 15,
   "metadata": {
    "colab": {
     "base_uri": "https://localhost:8080/",
     "height": 287
    },
    "colab_type": "code",
    "id": "_vb3SmCqRlO1",
    "outputId": "7c654371-d866-46dc-a713-42a1f2733741"
   },
   "outputs": [
    {
     "data": {
      "text/plain": [
       "[<matplotlib.lines.Line2D at 0x7f1d8928ee48>]"
      ]
     },
     "execution_count": 15,
     "metadata": {
      "tags": []
     },
     "output_type": "execute_result"
    },
    {
     "data": {
      "image/png": "[encoded data removed]",
      "text/plain": [
       "<Figure size 432x288 with 1 Axes>"
      ]
     },
     "metadata": {
      "tags": []
     },
     "output_type": "display_data"
    }
   ],
   "source": [
    "from xgboost.sklearn import XGBRegressor\n",
    "# Depth\n",
    "\n",
    "depth_res = []\n",
    "for i in range(1, 32, 3):\n",
    "    regr = XGBRegressor(max_depth=i, n_estimators=100, verbosity=1, objective='reg:linear', gamma=0.1, learning_rate=0.1)\n",
    "    rmsle = get_rmsle(X_train, y_train, X_val, y_val, regr)\n",
    "    depth_res.append(rmsle)\n",
    "\n",
    "plt.plot([i for i in range(1, 32, 3)], depth_res)"
   ]
  },
  {
   "cell_type": "code",
   "execution_count": 16,
   "metadata": {
    "colab": {
     "base_uri": "https://localhost:8080/",
     "height": 287
    },
    "colab_type": "code",
    "id": "gaW_nyStRlPH",
    "outputId": "3a726277-5a54-4853-e6b5-a8798f0e5ee6"
   },
   "outputs": [
    {
     "data": {
      "text/plain": [
       "[<matplotlib.lines.Line2D at 0x7f1d8252bb38>]"
      ]
     },
     "execution_count": 16,
     "metadata": {
      "tags": []
     },
     "output_type": "execute_result"
    },
    {
     "data": {
      "image/png": "[encoded data removed]",
      "text/plain": [
       "<Figure size 432x288 with 1 Axes>"
      ]
     },
     "metadata": {
      "tags": []
     },
     "output_type": "display_data"
    }
   ],
   "source": [
    "# n_estimators\n",
    "n_estimators_res = []\n",
    "for i in range(1, 1100, 100):\n",
    "    regr = XGBRegressor(max_depth=10, n_estimators=i, verbosity=1, objective='reg:linear', gamma=0.1, learning_rate=0.1)\n",
    "    rmsle = get_rmsle(X_train, y_train, X_val, y_val, regr)\n",
    "    n_estimators_res.append(rmsle)\n",
    "    \n",
    "plt.plot([i for i in range(1, 1100, 100)], n_estimators_res)"
   ]
  },
  {
   "cell_type": "code",
   "execution_count": 18,
   "metadata": {
    "colab": {
     "base_uri": "https://localhost:8080/",
     "height": 287
    },
    "colab_type": "code",
    "id": "8qqYBKzra1Tt",
    "outputId": "18171c4f-bd93-4b12-c2ff-aef7400a98d6"
   },
   "outputs": [
    {
     "data": {
      "text/plain": [
       "[<matplotlib.lines.Line2D at 0x7f1d824966a0>]"
      ]
     },
     "execution_count": 18,
     "metadata": {
      "tags": []
     },
     "output_type": "execute_result"
    },
    {
     "data": {
      "image/png": "[encoded data removed]",
      "text/plain": [
       "<Figure size 432x288 with 1 Axes>"
      ]
     },
     "metadata": {
      "tags": []
     },
     "output_type": "display_data"
    }
   ],
   "source": [
    "#learning_rate\n",
    "lr_res = []\n",
    "for  i in [0.1, 0.2, 0.5, 0.7]:\n",
    "    regr = XGBRegressor(max_depth=10, verbosity=1, objective='reg:linear', gamma=0.1, learning_rate=i)\n",
    "    rmsle = get_rmsle(X_train, y_train, X_val, y_val, regr)\n",
    "    lr_res.append(rmsle)\n",
    "    \n",
    "plt.plot([ 0.1, 0.2, 0.5, 0.7], lr_res)"
   ]
  },
  {
   "cell_type": "markdown",
   "metadata": {
    "colab_type": "text",
    "id": "2ZwSpjJTRlPX"
   },
   "source": [
    "## XGBoost result"
   ]
  },
  {
   "cell_type": "code",
   "execution_count": 20,
   "metadata": {
    "colab": {
     "base_uri": "https://localhost:8080/",
     "height": 35
    },
    "colab_type": "code",
    "id": "J-Tgl_uZRlPY",
    "outputId": "632ac139-97d1-48c0-a4ce-2eca470e06b5"
   },
   "outputs": [
    {
     "name": "stdout",
     "output_type": "stream",
     "text": [
      "RMSLE: 0.1388189985748904\n"
     ]
    }
   ],
   "source": [
    "regr = XGBRegressor(max_depth=10,n_estimator= 100, verbosity=1, objective='reg:linear', gamma=0.1, learning_rate=0.1)\n",
    "rmsle_xgb  = get_rmsle(X_train, y_train, X_test, y_test, regr)\n",
    "print(f'RMSLE: {rmsle_xgb}')"
   ]
  },
  {
   "cell_type": "markdown",
   "metadata": {
    "colab_type": "text",
    "id": "5T6OBKxzbmvs"
   },
   "source": [
    "For hyperparameters:\n",
    "  - max_depth = 10\n",
    "  - n_estimator = 100\n",
    "  - learning_rate = 0.1\n",
    "\n",
    "**RMSLE on testing dataset is 0.1388**"
   ]
  }
 ],
 "metadata": {
  "colab": {
   "collapsed_sections": [],
   "name": "MI-ADM_home_assignement_1.ipynb",
   "provenance": [],
   "toc_visible": true,
   "version": "0.3.2"
  },
  "kernelspec": {
   "display_name": "Python 3",
   "language": "python",
   "name": "python3"
  },
  "language_info": {
   "codemirror_mode": {
    "name": "ipython",
    "version": 3
   },
   "file_extension": ".py",
   "mimetype": "text/x-python",
   "name": "python",
   "nbconvert_exporter": "python",
   "pygments_lexer": "ipython3",
   "version": "3.7.3"
  }
 },
 "nbformat": 4,
 "nbformat_minor": 1
}
